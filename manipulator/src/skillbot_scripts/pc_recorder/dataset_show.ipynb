{
 "cells": [
  {
   "cell_type": "code",
   "execution_count": 16,
   "metadata": {},
   "outputs": [
    {
     "name": "stdout",
     "output_type": "stream",
     "text": [
      "[[ 1.08103085e+00 -3.07364557e-02 -6.30590320e-02]\n",
      " [ 1.07983148e+00 -3.17812040e-02 -6.25277162e-02]\n",
      " [ 1.07863450e+00 -3.28224823e-02 -6.19950891e-02]\n",
      " ...\n",
      " [ 8.53616416e-01  8.95617902e-02  7.83860683e-04]\n",
      " [ 8.53008449e-01  8.86607915e-02  4.36842442e-04]\n",
      " [ 8.52400541e-01  8.77597928e-02  8.98241997e-05]]\n"
     ]
    }
   ],
   "source": [
    "import os\n",
    "import numpy as np\n",
    "import trimesh\n",
    "from scipy.spatial.transform import Rotation\n",
    "base_path = 'test_1'\n",
    "grasp_poses = np.load(os.path.join(base_path, 'grasp.npy'), allow_pickle=True)\n",
    "point_clouds = np.load(os.path.join(base_path, 'ply.npy'), allow_pickle=True)\n",
    "print(grasp_poses[0])"
   ]
  },
  {
   "cell_type": "code",
   "execution_count": 12,
   "metadata": {},
   "outputs": [],
   "source": [
    "\n",
    "class Gripper:\n",
    "    gripper_depth = 59.3 / 1000\n",
    "    gripper_max_width = 85.0 / 1000\n",
    "    gripper_finger_width = 22.0 / 1000\n",
    "    def GetGeometry(self):\n",
    "        x_dim = self.gripper_max_width/2\n",
    "        y_dim = self.gripper_finger_width/2\n",
    "        geometry = {\n",
    "            'back_plane' : np.array([\n",
    "                    [-1, -1, 0],\n",
    "                    [ 1, -1, 0],\n",
    "                    [ 1,  1, 0],\n",
    "                    [-1,  1, 0],\n",
    "                ]) * [x_dim, y_dim, self.gripper_depth],\n",
    "            'right_plane' : np.array([\n",
    "                    [ 1, -1,  0],\n",
    "                    [ 1,  1,  0],\n",
    "                    [ 1,  1,  1],\n",
    "                    [ 1, -1,  1],\n",
    "                ]) * [x_dim, y_dim, self.gripper_depth]\n",
    "        }\n",
    "        geometry['left_plane'] = geometry['right_plane'] * [-1, 1, 1]\n",
    "        triangles = {key:  [[0,1,2],[2,3,0], [1, 0, 2], [3, 2, 0]] for key in geometry}\n",
    "        return geometry, triangles\n",
    "gripper = Gripper()\n",
    "gripper_geometry, triangles = gripper.GetGeometry()\n",
    "gripper_meshes = { key : trimesh.Trimesh(gripper_geometry[key], triangles[key]) for key in gripper_geometry}"
   ]
  },
  {
   "cell_type": "code",
   "execution_count": 13,
   "metadata": {},
   "outputs": [],
   "source": [
    "def PoseToMatrix(pose):\n",
    "    m = np.zeros((4,4))\n",
    "    m[0:3, 0:3] = Rotation.from_rotvec(pose[3:]).as_matrix()\n",
    "    m[0:3, 3] = pose[:3]\n",
    "    return m"
   ]
  },
  {
   "cell_type": "code",
   "execution_count": 14,
   "metadata": {},
   "outputs": [
    {
     "ename": "ValueError",
     "evalue": "could not broadcast input array from shape (14983,3,3) into shape (3,3)",
     "output_type": "error",
     "traceback": [
      "\u001b[0;31m---------------------------------------------------------------------------\u001b[0m",
      "\u001b[0;31mValueError\u001b[0m                                Traceback (most recent call last)",
      "\u001b[1;32m/home/daniil/projects/skillbot_ws/src/ur5_skillbot/skillbot_scripts/pc_recorder/dataset_show.ipynb Cell 4\u001b[0m in \u001b[0;36m<cell line: 3>\u001b[0;34m()\u001b[0m\n\u001b[1;32m      <a href='vscode-notebook-cell:/home/daniil/projects/skillbot_ws/src/ur5_skillbot/skillbot_scripts/pc_recorder/dataset_show.ipynb#W1sZmlsZQ%3D%3D?line=0'>1</a>\u001b[0m pc \u001b[39m=\u001b[39m trimesh\u001b[39m.\u001b[39mPointCloud(point_clouds[\u001b[39m0\u001b[39m], [\u001b[39m255\u001b[39m, \u001b[39m0\u001b[39m, \u001b[39m0\u001b[39m, \u001b[39m0\u001b[39m], metadata\u001b[39m=\u001b[39m{\u001b[39m'\u001b[39m\u001b[39mpoint_size\u001b[39m\u001b[39m'\u001b[39m:\u001b[39m10000\u001b[39m})\n\u001b[1;32m      <a href='vscode-notebook-cell:/home/daniil/projects/skillbot_ws/src/ur5_skillbot/skillbot_scripts/pc_recorder/dataset_show.ipynb#W1sZmlsZQ%3D%3D?line=1'>2</a>\u001b[0m actual_pose \u001b[39m=\u001b[39m grasp_poses[\u001b[39m0\u001b[39m]\n\u001b[0;32m----> <a href='vscode-notebook-cell:/home/daniil/projects/skillbot_ws/src/ur5_skillbot/skillbot_scripts/pc_recorder/dataset_show.ipynb#W1sZmlsZQ%3D%3D?line=2'>3</a>\u001b[0m tf \u001b[39m=\u001b[39m PoseToMatrix(actual_pose)\n\u001b[1;32m      <a href='vscode-notebook-cell:/home/daniil/projects/skillbot_ws/src/ur5_skillbot/skillbot_scripts/pc_recorder/dataset_show.ipynb#W1sZmlsZQ%3D%3D?line=3'>4</a>\u001b[0m sc \u001b[39m=\u001b[39m trimesh\u001b[39m.\u001b[39mScene(pc)\n\u001b[1;32m      <a href='vscode-notebook-cell:/home/daniil/projects/skillbot_ws/src/ur5_skillbot/skillbot_scripts/pc_recorder/dataset_show.ipynb#W1sZmlsZQ%3D%3D?line=4'>5</a>\u001b[0m \u001b[39mfor\u001b[39;00m key \u001b[39min\u001b[39;00m gripper_meshes:\n",
      "\u001b[1;32m/home/daniil/projects/skillbot_ws/src/ur5_skillbot/skillbot_scripts/pc_recorder/dataset_show.ipynb Cell 4\u001b[0m in \u001b[0;36mPoseToMatrix\u001b[0;34m(pose)\u001b[0m\n\u001b[1;32m      <a href='vscode-notebook-cell:/home/daniil/projects/skillbot_ws/src/ur5_skillbot/skillbot_scripts/pc_recorder/dataset_show.ipynb#W1sZmlsZQ%3D%3D?line=0'>1</a>\u001b[0m \u001b[39mdef\u001b[39;00m \u001b[39mPoseToMatrix\u001b[39m(pose):\n\u001b[1;32m      <a href='vscode-notebook-cell:/home/daniil/projects/skillbot_ws/src/ur5_skillbot/skillbot_scripts/pc_recorder/dataset_show.ipynb#W1sZmlsZQ%3D%3D?line=1'>2</a>\u001b[0m     m \u001b[39m=\u001b[39m np\u001b[39m.\u001b[39mzeros((\u001b[39m4\u001b[39m,\u001b[39m4\u001b[39m))\n\u001b[0;32m----> <a href='vscode-notebook-cell:/home/daniil/projects/skillbot_ws/src/ur5_skillbot/skillbot_scripts/pc_recorder/dataset_show.ipynb#W1sZmlsZQ%3D%3D?line=2'>3</a>\u001b[0m     m[\u001b[39m0\u001b[39m:\u001b[39m3\u001b[39m, \u001b[39m0\u001b[39m:\u001b[39m3\u001b[39m] \u001b[39m=\u001b[39m Rotation\u001b[39m.\u001b[39mfrom_rotvec(pose[\u001b[39m3\u001b[39m:])\u001b[39m.\u001b[39mas_matrix()\n\u001b[1;32m      <a href='vscode-notebook-cell:/home/daniil/projects/skillbot_ws/src/ur5_skillbot/skillbot_scripts/pc_recorder/dataset_show.ipynb#W1sZmlsZQ%3D%3D?line=3'>4</a>\u001b[0m     m[\u001b[39m0\u001b[39m:\u001b[39m3\u001b[39m, \u001b[39m3\u001b[39m] \u001b[39m=\u001b[39m pose[:\u001b[39m3\u001b[39m]\n\u001b[1;32m      <a href='vscode-notebook-cell:/home/daniil/projects/skillbot_ws/src/ur5_skillbot/skillbot_scripts/pc_recorder/dataset_show.ipynb#W1sZmlsZQ%3D%3D?line=4'>5</a>\u001b[0m     \u001b[39mreturn\u001b[39;00m m\n",
      "\u001b[0;31mValueError\u001b[0m: could not broadcast input array from shape (14983,3,3) into shape (3,3)"
     ]
    }
   ],
   "source": [
    "pc = trimesh.PointCloud(point_clouds[0], [255, 0, 0, 0], metadata={'point_size':10000})\n",
    "actual_pose = grasp_poses[0]\n",
    "tf = PoseToMatrix(actual_pose)\n",
    "sc = trimesh.Scene(pc)\n",
    "for key in gripper_meshes:\n",
    "    sc.add_geometry(gripper_meshes[key], transform=tf)"
   ]
  }
 ],
 "metadata": {
  "kernelspec": {
   "display_name": "Python 3",
   "language": "python",
   "name": "python3"
  },
  "language_info": {
   "codemirror_mode": {
    "name": "ipython",
    "version": 3
   },
   "file_extension": ".py",
   "mimetype": "text/x-python",
   "name": "python",
   "nbconvert_exporter": "python",
   "pygments_lexer": "ipython3",
   "version": "3.8.10"
  },
  "orig_nbformat": 4
 },
 "nbformat": 4,
 "nbformat_minor": 2
}
