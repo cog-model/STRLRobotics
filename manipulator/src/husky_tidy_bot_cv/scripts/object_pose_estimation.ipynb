{
 "cells": [
  {
   "cell_type": "code",
   "execution_count": null,
   "metadata": {},
   "outputs": [],
   "source": [
    "%reload_ext autoreload\n",
    "%autoreload 2\n",
    "\n",
    "import numpy as np\n",
    "import cv2\n",
    "import open3d as o3d\n",
    "from object_pose_estimation import ObjectPoseEstimation, get_box_point_cloud\n",
    "from kas_camera_utils.realsense_camera import RealsenseCamera\n",
    "from kas_camera_utils import stream\n",
    "from copy import deepcopy\n",
    "from time import time, sleep\n",
    "from kas_utils.aruco import detect_aruco\n",
    "from kas_utils import show\n",
    "from yolov8 import YOLOv8_wrapper"
   ]
  },
  {
   "cell_type": "code",
   "execution_count": null,
   "metadata": {},
   "outputs": [],
   "source": [
    "# initialization\n",
    "\n",
    "yolov8 = YOLOv8_wrapper(\n",
    "    \"/home/cds-jetson-host/ultralytics/yolov8n-seg-1class.yaml\",\n",
    "    \"/home/cds-jetson-host/ultralytics/runs/segment/ToyBox_10/weights/last.pt\",\n",
    "    min_score=0.7)\n",
    "\n",
    "camera = RealsenseCamera(enable_image=True, enable_depth=True)\n",
    "\n",
    "toy_box_point_cloud = get_box_point_cloud([0.07, 0.07, 0.07], points_per_cm=7)\n",
    "toy_box_pose_estimation = ObjectPoseEstimation(toy_box_point_cloud,\n",
    "    camera.K, camera.D,\n",
    "    voxel_size=0.005,\n",
    "    max_correspondence_distances=[0.04, 0.029, 0.018, 0.007])"
   ]
  },
  {
   "cell_type": "code",
   "execution_count": null,
   "metadata": {},
   "outputs": [],
   "source": [
    "image, depth = camera.read(True, True)\n",
    "scores, classes_ids, boxes, masks = yolov8.segment(image)\n",
    "if len(scores) != 1:\n",
    "    raise RuntimeError(f\"Detected {len(scores)} boxes, expected 1.\")\n",
    "\n",
    "toy_box_pose = toy_box_pose_estimation.estimate_pose(depth, masks[0])\n",
    "if toy_box_pose is None:\n",
    "    raise RuntimeError(f\"Could not estimate pose. Reason: {toy_box_pose_estimation.reason}\")"
   ]
  },
  {
   "cell_type": "code",
   "execution_count": null,
   "metadata": {},
   "outputs": [],
   "source": [
    "# visualize point clouds\n",
    "\n",
    "transformed_box_pc = deepcopy(toy_box_pose_estimation.gt_pc)\n",
    "transformed_box_pc.transform(toy_box_pose)\n",
    "transformed_box_pc.paint_uniform_color(np.array([1, 0, 0]))\n",
    "extracted_box_pc = toy_box_pose_estimation.extracted_pc\n",
    "extracted_box_pc.paint_uniform_color(np.array([0, 1, 0]))\n",
    "o3d.visualization.draw_geometries([transformed_box_pc, extracted_box_pc])"
   ]
  },
  {
   "cell_type": "code",
   "execution_count": null,
   "metadata": {},
   "outputs": [],
   "source": [
    "# visualize point clouds down\n",
    "\n",
    "transformed_box_pc_down = deepcopy(toy_box_pose_estimation.gt_pc_down)\n",
    "transformed_box_pc_down.transform(toy_box_pose)\n",
    "transformed_box_pc_down.paint_uniform_color(np.array([1, 0, 0]))\n",
    "extracted_box_pc_down = toy_box_pose_estimation.extracted_pc_down\n",
    "extracted_box_pc_down.paint_uniform_color(np.array([0, 1, 0]))\n",
    "o3d.visualization.draw_geometries([transformed_box_pc_down, extracted_box_pc_down])"
   ]
  },
  {
   "cell_type": "code",
   "execution_count": null,
   "metadata": {},
   "outputs": [],
   "source": [
    "# visualize box frame\n",
    "\n",
    "force_z_axis_up = False\n",
    "if force_z_axis_up:\n",
    "    if toy_box_pose[1, 2] > 0:\n",
    "        correction = np.eye(4)\n",
    "        correction[0:3, 0:3], _ = cv2.Rodrigues(np.array([np.pi, 0., 0.]))\n",
    "        pose = np.matmul(toy_box_pose, correction)\n",
    "else:\n",
    "    pose = toy_box_pose\n",
    "\n",
    "draw = image.copy()\n",
    "rvec, _ = cv2.Rodrigues(pose[0:3, 0:3])\n",
    "tvec = toy_box_pose[0:3, 3]\n",
    "cv2.drawFrameAxes(draw, camera.K, camera.D, rvec, tvec, 0.07)\n",
    "show(draw)"
   ]
  }
 ],
 "metadata": {
  "kernelspec": {
   "display_name": "env",
   "language": "python",
   "name": "python3"
  },
  "language_info": {
   "codemirror_mode": {
    "name": "ipython",
    "version": 3
   },
   "file_extension": ".py",
   "mimetype": "text/x-python",
   "name": "python",
   "nbconvert_exporter": "python",
   "pygments_lexer": "ipython3",
   "version": "3.9.0"
  },
  "orig_nbformat": 4
 },
 "nbformat": 4,
 "nbformat_minor": 2
}
